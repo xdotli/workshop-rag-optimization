{
 "cells": [
  {
   "cell_type": "markdown",
   "id": "77d074b8e62858a6",
   "metadata": {
    "collapsed": false,
    "jupyter": {
     "outputs_hidden": false
    }
   },
   "source": [
    "# Setting up the environment\n",
    "\n",
    "During the workshop, we will use LlamaIndex to build a RAG system, with Qdrant acting as the vector store. We can skip the indexing process, and simply start with a pre-built index, imported from a snapshot. However, before we start doing the actual work, we will review the underlying data and get familiar with it.\n",
    "\n",
    "## Prerequisites\n",
    "\n",
    "As usual, building up RAG requires a few components:\n",
    "\n",
    "- **Qdrant instance** - obviously, no RAG without Qdrant in the loop, either local or cloud version\n",
    "- **LLM** - we are going to work with OpenAI models, as they are the default of the LlamaIndex, so [please obtain an API key](https://help.openai.com/en/articles/4936850-where-do-i-find-my-openai-api-key)\n",
    "- **Embedding model** - there are plenty of models out there, but an open source [`BAAI/bge-large-en`](https://huggingface.co/BAAI/bge-large-en) is today's favorite"
   ]
  },
  {
   "cell_type": "markdown",
   "id": "5f9c5f7b903fcf2f",
   "metadata": {
    "collapsed": false,
    "jupyter": {
     "outputs_hidden": false
    }
   },
   "source": [
    "## Setting up Qdrant\n",
    "\n",
    "It doesn't matter if you prefer using a local Qdrant server running in a container, or our 1GB free tier cluster. Please make sure you have a running instance on hand."
   ]
  },
  {
   "cell_type": "markdown",
   "id": "6065733650176c8d",
   "metadata": {
    "collapsed": false,
    "jupyter": {
     "outputs_hidden": false
    }
   },
   "source": [
    "### Local Docker container\n",
    "\n",
    "If you have Docker installed on your machine, you should be able to launch an instance pretty quickly by running the following command."
   ]
  },
  {
   "cell_type": "code",
   "execution_count": 4,
   "id": "ac6874f21b4d1a6a",
   "metadata": {
    "collapsed": false,
    "jupyter": {
     "outputs_hidden": false
    }
   },
   "outputs": [
    {
     "name": "stdout",
     "output_type": "stream",
     "text": [
      "Unable to find image 'qdrant/qdrant:latest' locally\n",
      "latest: Pulling from qdrant/qdrant\n",
      "\n",
      "\u001b[1B3528b1f0: Pulling fs layer \n",
      "\u001b[1B5892c50b: Pulling fs layer \n",
      "\u001b[1B723d69dd: Pulling fs layer \n",
      "\u001b[1Bfb98c73d: Pulling fs layer \n",
      "\u001b[1Bb6aa18c7: Pulling fs layer \n",
      "\u001b[1Bcd71b0f2: Pulling fs layer \n",
      "\u001b[1B8fb4529f: Pulling fs layer \n",
      "\u001b[1BDigest: sha256:5f2a56b952669584eae41c86a807928d6ffac10997d7d171f21da204107a5930[8A\u001b[2K\u001b[8A\u001b[2K\u001b[5A\u001b[2K\u001b[8A\u001b[2K\u001b[5A\u001b[2K\u001b[8A\u001b[2K\u001b[5A\u001b[2K\u001b[5A\u001b[2K\u001b[5A\u001b[2K\u001b[8A\u001b[2K\u001b[8A\u001b[2K\u001b[3A\u001b[2K\u001b[8A\u001b[2K\u001b[8A\u001b[2K\u001b[8A\u001b[2K\u001b[5A\u001b[2K\u001b[8A\u001b[2K\u001b[2A\u001b[2K\u001b[5A\u001b[2K\u001b[8A\u001b[2K\u001b[5A\u001b[2K\u001b[8A\u001b[2K\u001b[5A\u001b[2K\u001b[8A\u001b[2K\u001b[5A\u001b[2K\u001b[1A\u001b[2K\u001b[5A\u001b[2K\u001b[8A\u001b[2K\u001b[5A\u001b[2K\u001b[8A\u001b[2K\u001b[8A\u001b[2K\u001b[8A\u001b[2K\u001b[7A\u001b[2K\u001b[5A\u001b[2K\u001b[5A\u001b[2K\u001b[1A\u001b[2K\n",
      "Status: Downloaded newer image for qdrant/qdrant:latest\n",
      "^C\n"
     ]
    }
   ],
   "source": [
    "!docker run -d -p \"6333:6333\" -p \"6334:6334\" qdrant/qdrant"
   ]
  },
  {
   "cell_type": "markdown",
   "id": "cf536ce934b91c79",
   "metadata": {
    "collapsed": false,
    "jupyter": {
     "outputs_hidden": false
    }
   },
   "source": [
    "### Qdrant Cloud free tier\n",
    "\n",
    "Another option is to [sign up for Qdrant Cloud](https://cloud.qdrant.io/login) and use the free tier 1GB cluster, which is available for everyone."
   ]
  },
  {
   "cell_type": "markdown",
   "id": "96aef02fba7d6f82",
   "metadata": {
    "collapsed": false,
    "jupyter": {
     "outputs_hidden": false
    }
   },
   "source": [
    "## Saving configuration\n",
    "\n",
    "The last thing we need to set up before the start is to store all the secrets as environmental variables in the `.env` file. There is an `env.example` we can use as a reference."
   ]
  },
  {
   "cell_type": "markdown",
   "id": "723c1f816d7e4338",
   "metadata": {
    "collapsed": false,
    "jupyter": {
     "outputs_hidden": false
    }
   },
   "source": [
    "Once the configuration is done, let's try out the connection to our Qdrant instance."
   ]
  },
  {
   "cell_type": "code",
   "execution_count": 2,
   "id": "ead15566e447c4cf",
   "metadata": {
    "collapsed": false,
    "jupyter": {
     "outputs_hidden": false
    }
   },
   "outputs": [
    {
     "data": {
      "text/plain": [
       "True"
      ]
     },
     "execution_count": 2,
     "metadata": {},
     "output_type": "execute_result"
    }
   ],
   "source": [
    "from dotenv import load_dotenv\n",
    "\n",
    "load_dotenv()"
   ]
  },
  {
   "cell_type": "code",
   "execution_count": 3,
   "id": "805f9acbec609491",
   "metadata": {
    "collapsed": false,
    "jupyter": {
     "outputs_hidden": false
    }
   },
   "outputs": [
    {
     "data": {
      "text/plain": [
       "CollectionsResponse(collections=[])"
      ]
     },
     "execution_count": 3,
     "metadata": {},
     "output_type": "execute_result"
    }
   ],
   "source": [
    "from qdrant_client import QdrantClient\n",
    "\n",
    "import os\n",
    "\n",
    "client = QdrantClient(\n",
    "    os.environ.get(\"QDRANT_URL\"), \n",
    "    api_key=os.environ.get(\"QDRANT_API_KEY\"),\n",
    ")\n",
    "client.get_collections()"
   ]
  },
  {
   "cell_type": "markdown",
   "id": "1dc936dbdc03cc6c",
   "metadata": {
    "collapsed": false,
    "jupyter": {
     "outputs_hidden": false
    }
   },
   "source": [
    "## Data import\n",
    "\n",
    "RAG obviously needs data to work with. There are various challenges to overcome while indexing the documents, such as the chunking strategy. Another thing is creating the embeddings, which is usually a bottleneck of each system. Since this workshop is not about indexing, we're going to load the Qdrant collection from the snapshots I prepared beforehand."
   ]
  },
  {
   "cell_type": "code",
   "execution_count": 4,
   "id": "ef095c28cf9bbc92",
   "metadata": {
    "collapsed": false,
    "jupyter": {
     "outputs_hidden": false
    }
   },
   "outputs": [],
   "source": [
    "client.recover_snapshot(\n",
    "    collection_name=\"hacker-news\",\n",
    "    # please do not modify the URL below\n",
    "    location=\"https://snapshots.qdrant.io/workshop-rag-optimization/hacker-news-8895643013517159-2024-02-20-21-56-46.snapshot\",\n",
    "    wait=False, # loading a snapshot may take some time, so let's avoid a timeout\n",
    ")"
   ]
  },
  {
   "cell_type": "code",
   "execution_count": 5,
   "id": "c830bea3a55a87ba",
   "metadata": {
    "collapsed": false,
    "jupyter": {
     "outputs_hidden": false
    }
   },
   "outputs": [
    {
     "data": {
      "text/plain": [
       "CollectionsResponse(collections=[CollectionDescription(name='hacker-news')])"
      ]
     },
     "execution_count": 5,
     "metadata": {},
     "output_type": "execute_result"
    }
   ],
   "source": [
    "import time\n",
    "\n",
    "while True:\n",
    "    collections = client.get_collections()\n",
    "    if len(collections.collections) >= 1:\n",
    "        break\n",
    "    time.sleep(1.0)\n",
    "\n",
    "collections"
   ]
  },
  {
   "cell_type": "markdown",
   "id": "59b5c121411da1ac",
   "metadata": {
    "collapsed": false,
    "jupyter": {
     "outputs_hidden": false
    }
   },
   "source": [
    "For now, we're going to use a single collection, but once we get to the hybrid search, there'll be another one required. Let's already import it, so we don't need to worry again."
   ]
  },
  {
   "cell_type": "code",
   "execution_count": 6,
   "id": "99a33b63e3c98195",
   "metadata": {
    "collapsed": false,
    "jupyter": {
     "outputs_hidden": false
    }
   },
   "outputs": [],
   "source": [
    "client.recover_snapshot(\n",
    "    collection_name=\"hacker-news-hybrid\",\n",
    "    location=\"https://snapshots.qdrant.io/workshop-rag-optimization/hacker-news-hybrid-8895643013517159-2024-02-20-21-56-54.snapshot\",\n",
    "    wait=False,\n",
    ")"
   ]
  },
  {
   "cell_type": "code",
   "execution_count": null,
   "id": "5aa32c7643d30b1d",
   "metadata": {
    "collapsed": false,
    "jupyter": {
     "outputs_hidden": false
    }
   },
   "outputs": [],
   "source": [
    "while True:\n",
    "    collections = client.get_collections()\n",
    "    if len(collections.collections) >= 2:\n",
    "        break\n",
    "    time.sleep(1.0)\n",
    "\n",
    "collections"
   ]
  },
  {
   "cell_type": "code",
   "execution_count": null,
   "id": "ac78980080f7cfaa",
   "metadata": {
    "collapsed": false,
    "jupyter": {
     "outputs_hidden": false
    }
   },
   "outputs": [],
   "source": []
  }
 ],
 "metadata": {
  "kernelspec": {
   "display_name": "Python 3 (ipykernel)",
   "language": "python",
   "name": "python3"
  },
  "language_info": {
   "codemirror_mode": {
    "name": "ipython",
    "version": 3
   },
   "file_extension": ".py",
   "mimetype": "text/x-python",
   "name": "python",
   "nbconvert_exporter": "python",
   "pygments_lexer": "ipython3",
   "version": "3.11.5"
  }
 },
 "nbformat": 4,
 "nbformat_minor": 5
}
